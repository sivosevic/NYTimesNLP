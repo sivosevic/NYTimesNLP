{
 "cells": [
  {
   "cell_type": "markdown",
   "metadata": {
    "colab_type": "text",
    "id": "wHKHSpkiQIts"
   },
   "source": [
    "# Collecting data from NY Times API\n",
    "\n",
    "This is data collection script. It collects articles from the New York Times API, formats the data appropriately, and exports the data to a CSV file. "
   ]
  },
  {
   "cell_type": "markdown",
   "metadata": {
    "colab_type": "text",
    "id": "xoavFJd0PDne"
   },
   "source": [
    "### Data Collection\n",
    "\n",
    "In this section, data is being collected from the New York Times API. Each request returns 10 articles, so we execute 120 requests to retrieve a total of 1,200 articles."
   ]
  },
  {
   "cell_type": "code",
   "execution_count": null,
   "metadata": {
    "colab": {},
    "colab_type": "code",
    "id": "ySusY8wqFG8L"
   },
   "outputs": [],
   "source": [
    "import requests as req\n",
    "import time\n",
    "\n",
    "API_KEY='your API_KEY' #API KEY is obtained from NY times\n",
    "TOPIC='Health' # you can choose any topic \n",
    "articles = []\n",
    "for i in range(120):\n",
    "  url='https://api.nytimes.com/svc/search/v2/articlesearch.json?q='+TOPIC+'&api-key='+API_KEY+'&page='+str(i)\n",
    "  res = req.get(url).json()\n",
    "\n",
    "  # Extract the necessary fields from the response.\n",
    "  docs = res['response']['docs']\n",
    "  for doc in docs:\n",
    "    filteredDoc = {}\n",
    "    filteredDoc['title'] = doc['headline']['main'] # we are extracting title ,headline and abstract from articles\n",
    "    filteredDoc['abstract'] = doc['abstract']\n",
    "    articles.append(filteredDoc)\n",
    "\n",
    "  # Done to avoid hitting the API request limit.\n",
    "  time.sleep(6)\n"
   ]
  },
  {
   "cell_type": "markdown",
   "metadata": {
    "colab_type": "text",
    "id": "i9UiHsZDRGdT"
   },
   "source": [
    "### Data Export 1\n",
    "We now create a Pandas DataFrame of the data and export it to a CSV file."
   ]
  },
  {
   "cell_type": "code",
   "execution_count": null,
   "metadata": {
    "colab": {},
    "colab_type": "code",
    "id": "BefNVD4VLVZl"
   },
   "outputs": [],
   "source": [
    "import pandas as pd\n",
    "\n",
    "df = pd.DataFrame(data=articles)\n",
    "df.to_csv('articles.csv')"
   ]
  },
  {
   "cell_type": "code",
   "execution_count": null,
   "metadata": {
    "colab": {},
    "colab_type": "code",
    "id": "CbYGCTpTZYKn"
   },
   "outputs": [],
   "source": []
  }
 ],
 "metadata": {
  "colab": {
   "authorship_tag": "ABX9TyNQKg8e/jpHJ3Bjgz0ifqAg",
   "name": "CUS635_Spring2020_Project2_Team1_DataCollection.ipynb",
   "provenance": []
  },
  "kernelspec": {
   "display_name": "Python 3",
   "language": "python",
   "name": "python3"
  },
  "language_info": {
   "codemirror_mode": {
    "name": "ipython",
    "version": 3
   },
   "file_extension": ".py",
   "mimetype": "text/x-python",
   "name": "python",
   "nbconvert_exporter": "python",
   "pygments_lexer": "ipython3",
   "version": "3.7.3"
  }
 },
 "nbformat": 4,
 "nbformat_minor": 4
}
