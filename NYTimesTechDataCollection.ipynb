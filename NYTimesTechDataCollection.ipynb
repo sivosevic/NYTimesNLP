{
 "cells": [
  {
   "cell_type": "markdown",
   "metadata": {
    "colab_type": "text",
    "id": "xoavFJd0PDne"
   },
   "source": [
    "### Data Collection\n",
    "This is data collection script. It collects articles from the New York Times API, formats the data appropriately, and exports the data to a CSV file.\n",
    "\n",
    "In this section, data is being collected from the New York Times API. Each request returns 10 articles, so we execute 120 requests to retrieve a total of 1,200 articles."
   ]
  },
  {
   "cell_type": "code",
   "execution_count": 1,
   "metadata": {
    "colab": {},
    "colab_type": "code",
    "id": "ySusY8wqFG8L"
   },
   "outputs": [
    {
     "data": {
      "text/plain": [
       "[{'title': 'What the Silicon Valley Prophet Sees on the Horizon',\n",
       "  'abstract': 'Stewart Brand coined the term “personal computer” and was one of the first to envision what digital technology would become. He knows it got messy. He thinks tech can clean itself up.',\n",
       "  'paragraph': 'Stewart Brand paused near the end of a steep trail just a quarter of a mile short of a cactus-laden vertical cliff face on the side of a 6,000-foot-high mountain in southern Texas.'},\n",
       " {'title': 'Turing Award Won by Programmer Who Paved Way for Supercomputers',\n",
       "  'abstract': 'In the 1970s, Jack Dongarra created code and concepts that allowed software to work easily with the world’s most powerful computing machines.',\n",
       "  'paragraph': 'In the late 1970s, as a young researcher at Argonne National Laboratory outside Chicago, Jack Dongarra helped write computer code called Linpack.'},\n",
       " {'title': 'Uber Close to Deal for Partnership With San Francisco Taxi Outfit',\n",
       "  'abstract': 'Passengers could soon use the Uber app to order taxis in a deal similar to one recently announced in New York City.',\n",
       "  'paragraph': 'SAN FRANCISCO — Uber’s plan to lure more taxis onto its platform in the next several years could soon take another big step.'},\n",
       " {'title': 'Uber Partners With Yellow Taxi Companies in N.Y.C.',\n",
       "  'abstract': 'The ride-hailing giant is teaming up with two taxi technology companies in an unlikely alliance.',\n",
       "  'paragraph': 'When Uber arrived in New York City in 2011, yellow taxis ruled the streets and drivers paid $1 million for the coveted taxi medallions that gave them the right to pick up passengers.'},\n",
       " {'title': 'NASA Plans to Give SpaceX Some Company on the Moon',\n",
       "  'abstract': 'The agency will seek bids for future lunar landing spacecraft from companies other than SpaceX, which won the first contract to return American astronauts to the moon.',\n",
       "  'paragraph': 'It won’t just be SpaceX going to the moon if NASA officials get their wish. That could be a boon to the space dreams of Jeff Bezos.'},\n",
       " {'title': 'Russia’s Loss of Rocket Launch Business Becomes SpaceX’s Gain',\n",
       "  'abstract': 'OneWeb, a British satellite internet company, turned to SpaceX’s rockets after canceling launches with Russia’s Soyuz vehicle over the invasion of Ukraine.',\n",
       "  'paragraph': 'OneWeb, a British satellite internet company that canceled rocket launches with Russia over its invasion of Ukraine, is turning to SpaceX to send broadband satellites into space.'},\n",
       " {'title': 'Toronto, the Quietly Booming Tech Town',\n",
       "  'abstract': 'For all the excitement around places like Austin and Miami, the biggest tech expansion has been in Canada’s largest city.',\n",
       "  'paragraph': 'TORONTO — In late February, Microsoft opened four floors of new office space near the top of a 50-story glass tower in downtown Toronto, a block from Scotiabank Arena, home of the Maple Leafs and the Raptors.'},\n",
       " {'title': 'Gig Workers Say High Gas Prices May Be a Breaking Point',\n",
       "  'abstract': 'Some drivers say they find it hard to justify spending hours on the road for Uber or Lyft as fuel costs continue to tick upward.',\n",
       "  'paragraph': 'When Adam Potash started driving for Lyft six months ago to help make ends meet, he was happy with the pay. The business was far from lucrative, but he was making about $200 a day before paying for costs like gas and car maintenance.'},\n",
       " {'title': '‘No-Code’ Brings the Power of A.I. to the Masses',\n",
       "  'abstract': 'A growing number of new products allow anyone to apply artificial intelligence without having to write a line of computer code. Proponents believe the “no-code” movement will change the world.',\n",
       "  'paragraph': 'This article is part of a new series on how artificial intelligence has the potential to solve everyday problems.'},\n",
       " {'title': 'Ty Haney Is Doing Things Differently This Time',\n",
       "  'abstract': 'The Outdoor Voices founder has a new venture that aims to reward customers with blockchain-based assets. But do brand loyalists really want NFTs?',\n",
       "  'paragraph': 'It would probably be a stretch to say that Ty Haney changed the way we work out. She didn’t start a boutique fitness craze; she’s not Jane Fonda. But Outdoor Voices, the athleisure company she founded in 2014, helped to popularize a fitness paradigm that has more to do with everyday movement than the body-stressing athleticism advertised by brands like Nike.'}]"
      ]
     },
     "execution_count": 1,
     "metadata": {},
     "output_type": "execute_result"
    }
   ],
   "source": [
    "import requests as req\n",
    "import time\n",
    "API_KEY='API_KEY' #insert your API_KEY \n",
    "TOPIC='Technology'\n",
    "articles = []\n",
    "for i in range(120):\n",
    "    url='https://api.nytimes.com/svc/search/v2/articlesearch.json?q='+TOPIC+'&api-key='+API_KEY+'&page='+str(i)\n",
    "    response = req.get(url).json()\n",
    "\n",
    "# Extract the necessary fields from the response.\n",
    "    docs = response['response']['docs']\n",
    "    for doc in docs:\n",
    "        filteredDoc = {}\n",
    "        filteredDoc['title'] = doc['headline']['main']\n",
    "        filteredDoc['abstract'] = doc['abstract']\n",
    "        filteredDoc['paragraph']=doc['lead_paragraph']\n",
    "\n",
    "        articles.append(filteredDoc)\n",
    "\n",
    "# Done to avoid hitting the API request limit.\n",
    "    time.sleep(6)\n",
    "articles[:10]"
   ]
  },
  {
   "cell_type": "code",
   "execution_count": 2,
   "metadata": {},
   "outputs": [
    {
     "data": {
      "text/plain": [
       "1200"
      ]
     },
     "execution_count": 2,
     "metadata": {},
     "output_type": "execute_result"
    }
   ],
   "source": [
    "#check if we have 1200 articles\n",
    "len(articles)"
   ]
  },
  {
   "cell_type": "markdown",
   "metadata": {
    "colab_type": "text",
    "id": "i9UiHsZDRGdT"
   },
   "source": [
    "### Data Export\n",
    "\n",
    "We now create a Pandas DataFrame of the data and export it to a CSV file."
   ]
  },
  {
   "cell_type": "code",
   "execution_count": 3,
   "metadata": {
    "colab": {},
    "colab_type": "code",
    "id": "BefNVD4VLVZl"
   },
   "outputs": [],
   "source": [
    "import pandas as pd\n",
    "df = pd.DataFrame(data=articles)\n",
    "df.to_csv('TechArticles.csv')"
   ]
  },
  {
   "cell_type": "code",
   "execution_count": null,
   "metadata": {},
   "outputs": [],
   "source": []
  }
 ],
 "metadata": {
  "colab": {
   "authorship_tag": "ABX9TyNQKg8e/jpHJ3Bjgz0ifqAg",
   "name": "CUS635_Spring2020_Project2_Team1_DataCollection.ipynb",
   "provenance": []
  },
  "kernelspec": {
   "display_name": "Python 3",
   "language": "python",
   "name": "python3"
  },
  "language_info": {
   "codemirror_mode": {
    "name": "ipython",
    "version": 3
   },
   "file_extension": ".py",
   "mimetype": "text/x-python",
   "name": "python",
   "nbconvert_exporter": "python",
   "pygments_lexer": "ipython3",
   "version": "3.7.3"
  }
 },
 "nbformat": 4,
 "nbformat_minor": 4
}
